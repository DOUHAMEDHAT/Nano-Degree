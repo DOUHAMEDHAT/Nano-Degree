{
 "cells": [
  {
   "cell_type": "markdown",
   "metadata": {},
   "source": [
    "# (BayWheels Data)\n",
    "## by (Mohamed Medhat ElDakrory)\n",
    "\n",
    "## Preliminary Wrangling\n",
    "\n",
    "> The Baywheel dataset is coming from Lyft website, displaying the performance of the historical trip and how the details of trips occurred, data is split into months files.\n",
    "\n",
    "> Each cell will include a hint about what is the cell is trying to produce:"
   ]
  },
  {
   "cell_type": "code",
   "execution_count": 2,
   "metadata": {},
   "outputs": [],
   "source": [
    "# import all packages and set plots to be embedded inline\n",
    "import numpy as np\n",
    "import pandas as pd\n",
    "import os\n",
    "import requests\n",
    "import matplotlib.pyplot as plt\n",
    "import seaborn as sns\n",
    "import zipfile\n",
    "import io\n",
    "from IPython.display import Markdown, display\n",
    "%matplotlib inline"
   ]
  },
  {
   "cell_type": "code",
   "execution_count": 3,
   "metadata": {},
   "outputs": [],
   "source": [
    "# Selecting the main path/directory which will contain all files needed:\n",
    "try:\n",
    "    main_path = os.getcwd()+'\\\\files'\n",
    "    os.mkdir(os.getcwd()+'/files')\n",
    "except FileExistsError:\n",
    "    os.close"
   ]
  },
  {
   "cell_type": "code",
   "execution_count": null,
   "metadata": {},
   "outputs": [],
   "source": [
    "# This might take time to download the files for data:\n",
    "# Selecting the files between 2018-01 to 2019-04 for baywheel data and downloaded to a speicifc folder:\n",
    "baywheels_my = [str(i).replace(\"-\", \"\") for i in pd.period_range(start='2018-01-01', end='2019-04-30', freq='M')]\n",
    "\n",
    "for file in baywheels_my:\n",
    "    url = 'https://s3.amazonaws.com/baywheels-data/' + str(file) + '-fordgobike-tripdata.csv.zip'\n",
    "    folder = requests.get(url)\n",
    "    with zipfile.ZipFile(io.BytesIO(folder.content), \"r\") as f:\n",
    "        filename = str(file) + '-fordgobike-tripdata.csv'\n",
    "        f.extract(filename, main_path)"
   ]
  },
  {
   "cell_type": "code",
   "execution_count": 4,
   "metadata": {},
   "outputs": [],
   "source": [
    "# Changing the directory to the path of files then loading all files to one dataframe.\n",
    "os.chdir(main_path)\n",
    "baywheels = pd.concat(map(pd.read_csv, os.listdir(main_path)), sort=False)"
   ]
  },
  {
   "cell_type": "markdown",
   "metadata": {},
   "source": [
    "### [1] Importing & Loading:\n",
    "> First started with importing the packages will be using during the project.\n",
    "\n",
    "> Moving to set the directory that will contain files and outputs as well.\n",
    "\n",
    "> Starting to downloading the files from the web page specifying the files needed.\n",
    "\n",
    "> Gathering all files into one file to a data frame to work on it. "
   ]
  },
  {
   "cell_type": "code",
   "execution_count": 25,
   "metadata": {},
   "outputs": [
    {
     "data": {
      "text/markdown": [
       "**DUPLICATION CHECK:**"
      ],
      "text/plain": [
       "<IPython.core.display.Markdown object>"
      ]
     },
     "metadata": {},
     "output_type": "display_data"
    },
    {
     "name": "stdout",
     "output_type": "stream",
     "text": [
      "There are no duplicated values\n",
      "-------------------------------------\n"
     ]
    },
    {
     "data": {
      "text/markdown": [
       "**NULL/Empty fields CHECK:**"
      ],
      "text/plain": [
       "<IPython.core.display.Markdown object>"
      ]
     },
     "metadata": {},
     "output_type": "display_data"
    },
    {
     "name": "stdout",
     "output_type": "stream",
     "text": [
      "The NULL values are:\n",
      "start_station_id      12501\n",
      "start_station_name    12501\n",
      "end_station_id        12501\n",
      "end_station_name      12501\n",
      "dtype: int64\n"
     ]
    }
   ],
   "source": [
    "# Checking and counting the duplication and empty values in the dataset:\n",
    "\n",
    "display(Markdown(\"**DUPLICATION CHECK:**\"))\n",
    "if baywheels.duplicated().sum() == 0:\n",
    "    print(\"There are no duplicated values\")\n",
    "else:\n",
    "    print(\"The duplicated values are\")\n",
    "    print(baywheels.duplicated().sum())\n",
    " \n",
    "print(\"-------------------------------------\")\n",
    "display(Markdown(\"**NULL/Empty fields CHECK:**\"))\n",
    "if baywheels.isnull().sum().any():\n",
    "    print(\"The NULL values are:\")\n",
    "    print(baywheels.isnull().sum()[baywheels.isnull().sum().values > 0])\n",
    "else:\n",
    "    print(\"There are no null/empty values\");"
   ]
  },
  {
   "cell_type": "code",
   "execution_count": 5,
   "metadata": {},
   "outputs": [
    {
     "name": "stdout",
     "output_type": "stream",
     "text": [
      "Memory usage of baywheels dataframe is : 659.212890625  MB\n",
      "___MEMORY USAGE AFTER COMPLETION:___\n",
      "Memory usage is:  329.99629974365234  MB\n",
      "This is  50.05913938223853 % of the initial size\n"
     ]
    }
   ],
   "source": [
    "# The cleaning processes on the baywheel dataset:\n",
    "\n",
    "# Excluding the null values in start_station_id as we can not determine the accurate specification for these rides:\n",
    "baywheels = baywheels[baywheels['start_station_id'].notnull()]\n",
    "\n",
    "# Starting to re-assign the datatypes to each column in the dataset to reduce the dataset size and enhance the performance as well:\n",
    "\n",
    "start_memory = baywheels.memory_usage().sum() / 1024**2\n",
    "print(\"Memory usage of baywheels dataframe is :\",start_memory,\" MB\")\n",
    "\n",
    "# Convert the columns which are datetime type:\n",
    "datetime_variables = ['start_time', 'end_time']\n",
    "baywheels['start_time'] = pd.to_datetime(baywheels['start_time'], format='%Y%m%d %H:%M:%S.%f')\n",
    "baywheels['end_time'] = pd.to_datetime(baywheels['end_time'], format='%Y%m%d %H:%M:%S.%f')\n",
    "baywheels['year_month'] = pd.to_datetime(baywheels['start_time']).dt.to_period('M')\n",
    "\n",
    "# Checking that duration_sec column is calculated right by performing a calculation on the start and end time, then\n",
    "# excluding the rides which not calculated right.\n",
    "duration_check = pd.DataFrame(dict(duration_v1 = baywheels['duration_sec'] - (baywheels['end_time'] - baywheels['start_time']).astype('timedelta64[s]')))\n",
    "duration_check[duration_check['duration_v1'] != 0]\n",
    "baywheels.drop(duration_check[duration_check['duration_v1'] != 0].index, inplace=True)\n",
    "\n",
    "# Convert the columns which are categorical type:\n",
    "cat_variables = ['start_station_id', 'start_station_name', 'end_station_id', 'end_station_name', 'bike_id', 'user_type', 'bike_share_for_all_trip']\n",
    "for cat in cat_variables:\n",
    "    baywheels[cat] = baywheels[cat].astype('category')\n",
    "\n",
    "# Convert the columns which are Numerical type:    \n",
    "num_variables = ['duration_sec', 'start_station_latitude', 'start_station_longitude','end_station_latitude', 'end_station_longitude']\n",
    "for col in num_variables:\n",
    "\n",
    "#re-assigning the datatypes for numerical to the appropriate type to reduce memory usage:\n",
    "    IsInt = False\n",
    "    mx = baywheels[col].max()\n",
    "    mn = baywheels[col].min()\n",
    "    # Make Integer/unsigned Integer data types\n",
    "    if IsInt:\n",
    "        if mn >= 0:\n",
    "            if mx < 255:\n",
    "                baywheels[col] = baywheels[col].astype(np.uint8)\n",
    "            elif mx < 65535:\n",
    "                baywheels[col] = baywheels[col].astype(np.uint16)\n",
    "            elif mx < 4294967295:\n",
    "                baywheels[col] = baywheels[col].astype(np.uint32)\n",
    "            else:\n",
    "                baywheels[col] = baywheels[col].astype(np.uint64)\n",
    "        else:\n",
    "            if mn > np.iinfo(np.int8).min and mx < np.iinfo(np.int8).max:\n",
    "                baywheels[col] = baywheels[col].astype(np.int8)\n",
    "            elif mn > np.iinfo(np.int16).min and mx < np.iinfo(np.int16).max:\n",
    "                baywheels[col] = baywheels[col].astype(np.int16)\n",
    "            elif mn > np.iinfo(np.int32).min and mx < np.iinfo(np.int32).max:\n",
    "                baywheels[col] = baywheels[col].astype(np.int32)\n",
    "            elif mn > np.iinfo(np.int64).min and mx < np.iinfo(np.int64).max:\n",
    "                baywheels[col] = baywheels[col].astype(np.int64)    \n",
    "            \n",
    "# Make float datatypes 32 bit\n",
    "    else:\n",
    "        baywheels[col] = baywheels[col].astype(np.float32)\n",
    "\n",
    "    \n",
    "# Print final result after cleaning the dataset:\n",
    "print(\"___MEMORY USAGE AFTER COMPLETION:___\")\n",
    "end_memory = baywheels.memory_usage().sum() / 1024**2 \n",
    "print(\"Memory usage is: \",end_memory,\" MB\")\n",
    "print(\"This is \",100*end_memory/start_memory,\"% of the initial size\")"
   ]
  },
  {
   "cell_type": "markdown",
   "metadata": {},
   "source": [
    "### [2] Cleaning & Wrangling:\n",
    "> After Checking the duplicated values in the data frame, it seems no duplicates data there.\n",
    "\n",
    "> After checking the null values and specifying the variables will delete the specified rows given I can not determine the exact values for this observation and as it's less than 0.5% of data will ignore it.\n",
    "\n",
    "> Starting to re-assign the datatypes as most of the text formats be an object and consume a high memory usage, also the number formats be assigned to the highest bytes so reducing the int64 to int32 will be faster to process into the notebook and to assign each variable to their specified type like DateTime, int/float and category, etc.\n"
   ]
  },
  {
   "cell_type": "markdown",
   "metadata": {},
   "source": [
    "### What is the structure of your dataset?\n",
    "\n",
    "> The dataset is a combination of 14 files combined horizontally from 2018-01 to 2019-04.\n",
    "\n",
    "> There are 12,501 observations with NULL values in [station_id, station_name] which reference to invalid trips.\n",
    "\n",
    "> Before-Cleaning: The dataset shape is 2,734,624 rows and 14 columns, with different data-types as [object, float64, int64].    \n",
    "  After-Cleaning: The dataset shape is 2,722,124 rows and 14 columns, with different data-types as [category, float32, datetime].\n",
    " \n",
    "> There are no duplicated values, so each row represents a unique trip detail.\n",
    " \n",
    "### What is/are the main feature(s) of interest in your dataset?\n",
    "\n",
    "> The trends/seasonality of the trips.\n",
    "\n",
    "> The summary of trip duration across the time-series.\n",
    "\n",
    "> Who are the top performance bikers and what they do? \n",
    "\n",
    "### What features in the dataset do you think will help support your investigation into your feature(s) of interest?\n",
    "\n",
    "> Trends/seasonality: The number of trips and Hours spend across the time-series trends.\n",
    "\n",
    "> trip duration: duration sec gives us a view of avg duration and how the duration is distributed when the duration is affected.\n",
    "\n",
    "> Top bikers: How many trips, Hours, and trips per hour they do Can classify the bikers based on performance."
   ]
  },
  {
   "cell_type": "markdown",
   "metadata": {},
   "source": [
    "## Univariate Exploration\n"
   ]
  },
  {
   "cell_type": "code",
   "execution_count": 46,
   "metadata": {},
   "outputs": [
    {
     "data": {
      "text/markdown": [
       "**The overall view of trip duration in hour:**"
      ],
      "text/plain": [
       "<IPython.core.display.Markdown object>"
      ]
     },
     "metadata": {},
     "output_type": "display_data"
    },
    {
     "data": {
      "image/png": "[encoded data removed]",
      "text/plain": [
       "<Figure size 1440x576 with 3 Axes>"
      ]
     },
     "metadata": {
      "needs_background": "light"
     },
     "output_type": "display_data"
    }
   ],
   "source": [
    "# Looking into the distribution of trip duration to understand how is the trips is distributed:\n",
    "display(Markdown(\"**The overall view of trip duration in hour:**\"))\n",
    "\n",
    "fig, ax = plt.subplots(ncols=3, figsize=(20,8))\n",
    "\n",
    "sns.distplot(baywheels['duration_sec']/3600, color=sns.color_palette()[7], ax=ax[0], bins=1000, kde = False)\n",
    "ax[0].set_title(\"The trip scale in all hours\", fontsize=12)\n",
    "ax[0].set_xlabel(\"The trip scale in hours\", fontsize=12)\n",
    "ax[0].set_ylabel(\"how many trips occured for each hour\", fontsize=12)\n",
    "\n",
    "sns.distplot(baywheels['duration_sec']/3600, color=sns.color_palette()[6],  ax=ax[1], bins= 1000, kde = False)\n",
    "ax[1].set_title(\"The trip scale in hours [0-5]\", fontsize=12)\n",
    "ax[1].set_xlabel(\"The trip scale in hours\", fontsize=12)\n",
    "ax[1].set_ylabel(\"how many trips occured for each hour\", fontsize=12)\n",
    "ax[1].set(xlim= (0,5));\n",
    "\n",
    "sns.distplot(baywheels['duration_sec']/3600, color=sns.color_palette()[6], ax=ax[2], bins= 500, kde = False, hist_kws=dict(edgecolor=\"k\"))\n",
    "ax[2].set_title(\"The trip scale in hours [0-1]\", fontsize=12)\n",
    "ax[2].set_xlabel(\"The trip scale in hours\", fontsize=12)\n",
    "ax[2].set_ylabel(\"how many trips occured for each hour\", fontsize=12)\n",
    "ax[2].set(xlim= (0,1))\n",
    "\n",
    "plt.subplots_adjust(wspace=.3);"
   ]
  },
  {
   "cell_type": "markdown",
   "metadata": {},
   "source": [
    "As the first step will look at the distribution of trips across the hours is their concentration at specific hours, are their hours might be considered as un-realistic or outliers.\n",
    "\n",
    "The distribution of the trips across the hours milestone shows a huge concentration at the beginning which is close to the normal as it's hard to see a trip for more than 10-20 hours, Given more than 99% of the trips occur for the ride below the 3 hours.\n",
    "\n",
    "I will choose the 5 hours as the last milestone and filter the data based on it forward."
   ]
  },
  {
   "cell_type": "code",
   "execution_count": 39,
   "metadata": {},
   "outputs": [
    {
     "data": {
      "text/markdown": [
       "**How is the shared hours looks liks?**"
      ],
      "text/plain": [
       "<IPython.core.display.Markdown object>"
      ]
     },
     "metadata": {},
     "output_type": "display_data"
    },
    {
     "data": {
      "text/html": [
       "<div>\n",
       "<style scoped>\n",
       "    .dataframe tbody tr th:only-of-type {\n",
       "        vertical-align: middle;\n",
       "    }\n",
       "\n",
       "    .dataframe tbody tr th {\n",
       "        vertical-align: top;\n",
       "    }\n",
       "\n",
       "    .dataframe thead th {\n",
       "        text-align: right;\n",
       "    }\n",
       "</style>\n",
       "<table border=\"1\" class=\"dataframe\">\n",
       "  <thead>\n",
       "    <tr style=\"text-align: right;\">\n",
       "      <th>duration_hour</th>\n",
       "      <th>0.0</th>\n",
       "      <th>1.0</th>\n",
       "      <th>2.0</th>\n",
       "      <th>3.0</th>\n",
       "      <th>4.0</th>\n",
       "      <th>5.0</th>\n",
       "    </tr>\n",
       "  </thead>\n",
       "  <tbody>\n",
       "    <tr>\n",
       "      <th>year_month</th>\n",
       "      <td>95.3</td>\n",
       "      <td>3.96</td>\n",
       "      <td>0.44</td>\n",
       "      <td>0.17</td>\n",
       "      <td>0.08</td>\n",
       "      <td>0.05</td>\n",
       "    </tr>\n",
       "  </tbody>\n",
       "</table>\n",
       "</div>"
      ],
      "text/plain": [
       "duration_hour   0.0   1.0   2.0   3.0   4.0   5.0\n",
       "year_month     95.3  3.96  0.44  0.17  0.08  0.05"
      ]
     },
     "execution_count": 39,
     "metadata": {},
     "output_type": "execute_result"
    }
   ],
   "source": [
    "# Looking at the hours shares to understand where is the concentration of trips. \n",
    "display(Markdown(\"**How is the shared hours looks liks?**\"))\n",
    "round(pd.DataFrame(\n",
    "        pd.pivot_table(\n",
    "            data = pd.DataFrame(\n",
    "                dict(year_month = baywheels['year_month'], duration_hour = round(baywheels['duration_sec']/3600))),\n",
    "                   index = 'duration_hour', values = 'year_month', aggfunc='count')['year_month']/baywheels.shape[0])*100.00,2).transpose()\n"
   ]
  },
  {
   "cell_type": "code",
   "execution_count": 29,
   "metadata": {},
   "outputs": [],
   "source": [
    "# Excluding the trips above 5 hours, as it's suspicious for a long trip to be more than 5 hours.\n",
    "baywheels = baywheels[round(baywheels['duration_sec']/3600) <= 5]"
   ]
  },
  {
   "cell_type": "code",
   "execution_count": 49,
   "metadata": {},
   "outputs": [
    {
     "data": {
      "text/markdown": [
       "**The month-year view of trip duration in hour:**"
      ],
      "text/plain": [
       "<IPython.core.display.Markdown object>"
      ]
     },
     "metadata": {},
     "output_type": "display_data"
    },
    {
     "data": {
      "image/png": "[encoded data removed]",
      "text/plain": [
       "<Figure size 1296x648 with 16 Axes>"
      ]
     },
     "metadata": {
      "needs_background": "light"
     },
     "output_type": "display_data"
    }
   ],
   "source": [
    "# The month-year distribution of the duration across all times is there any changes in specific month or year.\n",
    "display(Markdown(\"**The month-year view of trip duration in hour:**\"))\n",
    "\n",
    "ym = sns.FacetGrid(data = pd.DataFrame(dict(year_month = baywheels['year_month'], duration_hour = baywheels['duration_sec']/3600))\n",
    "                   , col= 'year_month', margin_titles=True, col_wrap=6)\n",
    "ym.map(plt.hist, \"duration_hour\", bins=500)\n",
    "plt.xlim(0,1);"
   ]
  },
  {
   "cell_type": "markdown",
   "metadata": {},
   "source": [
    "After excluding the trips with more than 5 hours, will look if these trips are happening in no specific time frame not affected by a specific month or year as an example, showing after plotting that all month across all years shows the same distribution of concentration of hours below the 3 hours.\n",
    "\n",
    "So no need for more action regarding this observation across year/month here."
   ]
  },
  {
   "cell_type": "code",
   "execution_count": 47,
   "metadata": {},
   "outputs": [
    {
     "data": {
      "image/png": "[encoded data removed]",
      "text/plain": [
       "<Figure size 720x360 with 2 Axes>"
      ]
     },
     "metadata": {
      "needs_background": "light"
     },
     "output_type": "display_data"
    }
   ],
   "source": [
    "# Looking at the location if there any locations are weird to be displayed:\n",
    "fig, ax = plt.subplots(ncols=2, figsize=(10,5))\n",
    "baywheels[['start_station_latitude', 'start_station_longitude']].plot.scatter(x='start_station_latitude', y='start_station_longitude', c='blue', ax=ax[0])\n",
    "baywheels[['end_station_latitude', 'end_station_longitude']].plot.scatter(x='end_station_latitude', y='end_station_longitude', c='red', ax=ax[1])\n",
    "fig.tight_layout();"
   ]
  },
  {
   "cell_type": "markdown",
   "metadata": {},
   "source": [
    "- Looking at the location outliers by displaying the longitude and latitude as both tend to have values close to each other if we are considering a specific area or country, so it hard to see a latitude with 37 value vs 0 value this is not normal.\n",
    "\n",
    "- Finding that majority of both latitude and longitude are clustering groups of concentration which gives us that all points tend to be close and realistic, just a few points with zero values will be considered as wrong-info and will be deleted."
   ]
  },
  {
   "cell_type": "code",
   "execution_count": 32,
   "metadata": {},
   "outputs": [
    {
     "name": "stdout",
     "output_type": "stream",
     "text": [
      "           start_station_latitude\n",
      "37.799999                 2323117\n",
      "37.900002                  228084\n",
      "37.299999                  121360\n",
      "37.700001                   41398\n",
      "37.400002                    3013\n",
      "0.000000                        1\n",
      "             start_station_longitude\n",
      "-122.400002                  1994864\n",
      "-122.300003                   562934\n",
      "-121.900002                   124348\n",
      "-122.199997                    28180\n",
      "-122.500000                     6621\n",
      "-121.800003                       25\n",
      " 0.000000                          1\n",
      "           end_station_latitude\n",
      "37.799999               2335025\n",
      "37.900002                220422\n",
      "37.299999                121243\n",
      "37.700001                 37133\n",
      "37.400002                  3132\n",
      "0.000000                     18\n",
      "             end_station_longitude\n",
      "-122.400002                1995067\n",
      "-122.300003                 558435\n",
      "-121.900002                 124360\n",
      "-122.199997                  32612\n",
      "-122.500000                   6466\n",
      " 0.000000                       18\n",
      "-121.800003                     15\n"
     ]
    }
   ],
   "source": [
    "# Then looking into the locations itself as tabular data, we witness that there are some location looks weird:\n",
    "\n",
    "for i in ['start_station_latitude', 'start_station_longitude', 'end_station_latitude','end_station_longitude']:\n",
    "    print(pd.DataFrame(round(baywheels[i],1).value_counts()))\n",
    "    \n",
    "baywheels.drop(baywheels[baywheels['start_station_latitude'] == 0].index, inplace=True)\n",
    "baywheels.drop(baywheels[baywheels['end_station_latitude'] == 0].index, inplace=True)"
   ]
  },
  {
   "cell_type": "code",
   "execution_count": 33,
   "metadata": {},
   "outputs": [
    {
     "name": "stdout",
     "output_type": "stream",
     "text": [
      "The start_station_id Column has  368 a unique values\n",
      "The start_station_name Column has  387 a unique values\n",
      "The end_station_id Column has  368 a unique values\n",
      "The end_station_name Column has  387 a unique values\n",
      "The bike_id Column has  6401 a unique values\n",
      "The user_type Column has  2 a unique values\n",
      "The bike_share_for_all_trip Column has  2 a unique values\n"
     ]
    }
   ],
   "source": [
    "# Looking to the categorical columns, are they unique or some are not:\n",
    "# Given that the start id or name must be the same for the station:\n",
    "for i in cat_variables:\n",
    "    print(\"The\", i, \"Column has \", baywheels[i].nunique(), \"a unique values\")"
   ]
  },
  {
   "cell_type": "markdown",
   "metadata": {},
   "source": [
    "> 1- First will look into is the ids/names of stations are the same for the starting and ending as well, or there are some locations not overlapping.\n",
    "2- It seems that there are some stations has a typo name in both start and end station.                                      \n",
    "3- Will re-assign the station which has a typo to the respective station, choosing the most station-name has more trips to be more valid.                                                                                                                   \n",
    "4- Recheck again if the ids and names are matched equally."
   ]
  },
  {
   "cell_type": "code",
   "execution_count": 34,
   "metadata": {},
   "outputs": [
    {
     "name": "stdout",
     "output_type": "stream",
     "text": [
      "Station ID & Station Name are the same for start/stop station\n"
     ]
    },
    {
     "data": {
      "text/html": [
       "<div>\n",
       "<style scoped>\n",
       "    .dataframe tbody tr th:only-of-type {\n",
       "        vertical-align: middle;\n",
       "    }\n",
       "\n",
       "    .dataframe tbody tr th {\n",
       "        vertical-align: top;\n",
       "    }\n",
       "\n",
       "    .dataframe thead th {\n",
       "        text-align: right;\n",
       "    }\n",
       "</style>\n",
       "<table border=\"1\" class=\"dataframe\">\n",
       "  <thead>\n",
       "    <tr style=\"text-align: right;\">\n",
       "      <th></th>\n",
       "      <th>start_station_id</th>\n",
       "      <th>start_station_name</th>\n",
       "      <th>end_station_id</th>\n",
       "      <th>end_station_name</th>\n",
       "      <th>duration_sec</th>\n",
       "      <th>rank</th>\n",
       "    </tr>\n",
       "  </thead>\n",
       "  <tbody>\n",
       "    <tr>\n",
       "      <th>0</th>\n",
       "      <td>364.0</td>\n",
       "      <td>China Basin St at 3rd St</td>\n",
       "      <td>364.0</td>\n",
       "      <td>China Basin St at 3rd St</td>\n",
       "      <td>3726.0</td>\n",
       "      <td>1.0</td>\n",
       "    </tr>\n",
       "    <tr>\n",
       "      <th>1</th>\n",
       "      <td>364.0</td>\n",
       "      <td>Mission Rock St at 3rd St</td>\n",
       "      <td>364.0</td>\n",
       "      <td>Mission Rock St at 3rd St</td>\n",
       "      <td>2499.0</td>\n",
       "      <td>2.0</td>\n",
       "    </tr>\n",
       "    <tr>\n",
       "      <th>2</th>\n",
       "      <td>358.0</td>\n",
       "      <td>Williams Ave at 3rd St</td>\n",
       "      <td>358.0</td>\n",
       "      <td>Williams Ave at 3rd St</td>\n",
       "      <td>226.0</td>\n",
       "      <td>1.0</td>\n",
       "    </tr>\n",
       "    <tr>\n",
       "      <th>3</th>\n",
       "      <td>358.0</td>\n",
       "      <td>Lane St at Van Dyke Ave</td>\n",
       "      <td>358.0</td>\n",
       "      <td>Lane St at Van Dyke Ave</td>\n",
       "      <td>35.0</td>\n",
       "      <td>2.0</td>\n",
       "    </tr>\n",
       "    <tr>\n",
       "      <th>4</th>\n",
       "      <td>321.0</td>\n",
       "      <td>5th at Folsom</td>\n",
       "      <td>321.0</td>\n",
       "      <td>5th at Folsom</td>\n",
       "      <td>5515.0</td>\n",
       "      <td>2.0</td>\n",
       "    </tr>\n",
       "    <tr>\n",
       "      <th>5</th>\n",
       "      <td>321.0</td>\n",
       "      <td>5th St at Folsom</td>\n",
       "      <td>321.0</td>\n",
       "      <td>5th St at Folsom</td>\n",
       "      <td>10821.0</td>\n",
       "      <td>1.0</td>\n",
       "    </tr>\n",
       "    <tr>\n",
       "      <th>6</th>\n",
       "      <td>281.0</td>\n",
       "      <td>9th St at San Fernando St</td>\n",
       "      <td>281.0</td>\n",
       "      <td>9th St at San Fernando St</td>\n",
       "      <td>1173.0</td>\n",
       "      <td>1.0</td>\n",
       "    </tr>\n",
       "    <tr>\n",
       "      <th>7</th>\n",
       "      <td>281.0</td>\n",
       "      <td>9th St at San Fernando</td>\n",
       "      <td>281.0</td>\n",
       "      <td>9th St at San Fernando</td>\n",
       "      <td>1113.0</td>\n",
       "      <td>2.0</td>\n",
       "    </tr>\n",
       "    <tr>\n",
       "      <th>8</th>\n",
       "      <td>280.0</td>\n",
       "      <td>San Fernando St at 7th St</td>\n",
       "      <td>280.0</td>\n",
       "      <td>San Fernando St at 7th St</td>\n",
       "      <td>2558.0</td>\n",
       "      <td>2.0</td>\n",
       "    </tr>\n",
       "    <tr>\n",
       "      <th>9</th>\n",
       "      <td>280.0</td>\n",
       "      <td>6th St at San Fernando St (Temporary Location)</td>\n",
       "      <td>280.0</td>\n",
       "      <td>6th St at San Fernando St (Temporary Location)</td>\n",
       "      <td>2243.0</td>\n",
       "      <td>3.0</td>\n",
       "    </tr>\n",
       "    <tr>\n",
       "      <th>10</th>\n",
       "      <td>280.0</td>\n",
       "      <td>San Fernando at 7th St</td>\n",
       "      <td>280.0</td>\n",
       "      <td>San Fernando at 7th St</td>\n",
       "      <td>2601.0</td>\n",
       "      <td>1.0</td>\n",
       "    </tr>\n",
       "    <tr>\n",
       "      <th>11</th>\n",
       "      <td>272.0</td>\n",
       "      <td>Woolsey St at Sacramento St1</td>\n",
       "      <td>272.0</td>\n",
       "      <td>Woolsey St at Sacramento St1</td>\n",
       "      <td>258.0</td>\n",
       "      <td>2.0</td>\n",
       "    </tr>\n",
       "    <tr>\n",
       "      <th>12</th>\n",
       "      <td>272.0</td>\n",
       "      <td>Woolsey St at Sacramento St</td>\n",
       "      <td>272.0</td>\n",
       "      <td>Woolsey St at Sacramento St</td>\n",
       "      <td>2125.0</td>\n",
       "      <td>1.0</td>\n",
       "    </tr>\n",
       "    <tr>\n",
       "      <th>13</th>\n",
       "      <td>234.0</td>\n",
       "      <td>Fruitvale Ave at International Blvd</td>\n",
       "      <td>234.0</td>\n",
       "      <td>Fruitvale Ave at International Blvd</td>\n",
       "      <td>150.0</td>\n",
       "      <td>1.0</td>\n",
       "    </tr>\n",
       "    <tr>\n",
       "      <th>14</th>\n",
       "      <td>234.0</td>\n",
       "      <td>Farnam St at Fruitvale Ave</td>\n",
       "      <td>234.0</td>\n",
       "      <td>Farnam St at Fruitvale Ave</td>\n",
       "      <td>77.0</td>\n",
       "      <td>2.0</td>\n",
       "    </tr>\n",
       "    <tr>\n",
       "      <th>15</th>\n",
       "      <td>233.0</td>\n",
       "      <td>12th St at 4th Ave</td>\n",
       "      <td>233.0</td>\n",
       "      <td>12th St at 4th Ave</td>\n",
       "      <td>1499.0</td>\n",
       "      <td>1.0</td>\n",
       "    </tr>\n",
       "    <tr>\n",
       "      <th>16</th>\n",
       "      <td>233.0</td>\n",
       "      <td>E 12th St at 4th Ave</td>\n",
       "      <td>233.0</td>\n",
       "      <td>E 12th St at 4th Ave</td>\n",
       "      <td>211.0</td>\n",
       "      <td>3.0</td>\n",
       "    </tr>\n",
       "    <tr>\n",
       "      <th>17</th>\n",
       "      <td>233.0</td>\n",
       "      <td>4th Ave at E 12th St (Temporary Location)</td>\n",
       "      <td>233.0</td>\n",
       "      <td>4th Ave at E 12th St (Temporary Location)</td>\n",
       "      <td>1464.0</td>\n",
       "      <td>2.0</td>\n",
       "    </tr>\n",
       "    <tr>\n",
       "      <th>18</th>\n",
       "      <td>221.0</td>\n",
       "      <td>E 12th St at 6th Ave</td>\n",
       "      <td>221.0</td>\n",
       "      <td>E 12th St at 6th Ave</td>\n",
       "      <td>121.0</td>\n",
       "      <td>3.0</td>\n",
       "    </tr>\n",
       "    <tr>\n",
       "      <th>19</th>\n",
       "      <td>221.0</td>\n",
       "      <td>12th St at 6th Ave</td>\n",
       "      <td>221.0</td>\n",
       "      <td>12th St at 6th Ave</td>\n",
       "      <td>415.0</td>\n",
       "      <td>2.0</td>\n",
       "    </tr>\n",
       "    <tr>\n",
       "      <th>20</th>\n",
       "      <td>221.0</td>\n",
       "      <td>6th Ave at E 12th St (Temporary Location)</td>\n",
       "      <td>221.0</td>\n",
       "      <td>6th Ave at E 12th St (Temporary Location)</td>\n",
       "      <td>762.0</td>\n",
       "      <td>1.0</td>\n",
       "    </tr>\n",
       "    <tr>\n",
       "      <th>21</th>\n",
       "      <td>212.0</td>\n",
       "      <td>Mosswood Park</td>\n",
       "      <td>212.0</td>\n",
       "      <td>Mosswood Park</td>\n",
       "      <td>3902.0</td>\n",
       "      <td>1.0</td>\n",
       "    </tr>\n",
       "    <tr>\n",
       "      <th>22</th>\n",
       "      <td>212.0</td>\n",
       "      <td>Webster St at MacArthur Blvd (Temporary Location)</td>\n",
       "      <td>212.0</td>\n",
       "      <td>Webster St at MacArthur Blvd (Temporary Location)</td>\n",
       "      <td>485.0</td>\n",
       "      <td>2.0</td>\n",
       "    </tr>\n",
       "    <tr>\n",
       "      <th>23</th>\n",
       "      <td>208.0</td>\n",
       "      <td>S. 4th St at San Carlos St</td>\n",
       "      <td>208.0</td>\n",
       "      <td>S. 4th St at San Carlos St</td>\n",
       "      <td>1226.0</td>\n",
       "      <td>1.0</td>\n",
       "    </tr>\n",
       "    <tr>\n",
       "      <th>24</th>\n",
       "      <td>208.0</td>\n",
       "      <td>William St at 4th St (Temporary Location)</td>\n",
       "      <td>208.0</td>\n",
       "      <td>William St at 4th St (Temporary Location)</td>\n",
       "      <td>26.0</td>\n",
       "      <td>2.0</td>\n",
       "    </tr>\n",
       "    <tr>\n",
       "      <th>25</th>\n",
       "      <td>205.0</td>\n",
       "      <td>Shafter Ave at Cavour St</td>\n",
       "      <td>205.0</td>\n",
       "      <td>Shafter Ave at Cavour St</td>\n",
       "      <td>882.0</td>\n",
       "      <td>2.0</td>\n",
       "    </tr>\n",
       "    <tr>\n",
       "      <th>26</th>\n",
       "      <td>205.0</td>\n",
       "      <td>Miles Ave at Cavour St</td>\n",
       "      <td>205.0</td>\n",
       "      <td>Miles Ave at Cavour St</td>\n",
       "      <td>1571.0</td>\n",
       "      <td>1.0</td>\n",
       "    </tr>\n",
       "    <tr>\n",
       "      <th>27</th>\n",
       "      <td>205.0</td>\n",
       "      <td>Miles Ave at Cavour St (Temporary Location)</td>\n",
       "      <td>205.0</td>\n",
       "      <td>Miles Ave at Cavour St (Temporary Location)</td>\n",
       "      <td>350.0</td>\n",
       "      <td>3.0</td>\n",
       "    </tr>\n",
       "    <tr>\n",
       "      <th>28</th>\n",
       "      <td>192.0</td>\n",
       "      <td>37th St at West St</td>\n",
       "      <td>192.0</td>\n",
       "      <td>37th St at West St</td>\n",
       "      <td>1229.0</td>\n",
       "      <td>1.0</td>\n",
       "    </tr>\n",
       "    <tr>\n",
       "      <th>29</th>\n",
       "      <td>192.0</td>\n",
       "      <td>MLK Jr Way at 36th St (Temporary Location)</td>\n",
       "      <td>192.0</td>\n",
       "      <td>MLK Jr Way at 36th St (Temporary Location)</td>\n",
       "      <td>178.0</td>\n",
       "      <td>2.0</td>\n",
       "    </tr>\n",
       "    <tr>\n",
       "      <th>30</th>\n",
       "      <td>173.0</td>\n",
       "      <td>Shattuck Ave at 55th St</td>\n",
       "      <td>173.0</td>\n",
       "      <td>Shattuck Ave at 55th St</td>\n",
       "      <td>2040.0</td>\n",
       "      <td>1.0</td>\n",
       "    </tr>\n",
       "    <tr>\n",
       "      <th>31</th>\n",
       "      <td>173.0</td>\n",
       "      <td>Shattuck Ave at 55th Ave</td>\n",
       "      <td>173.0</td>\n",
       "      <td>Shattuck Ave at 55th Ave</td>\n",
       "      <td>799.0</td>\n",
       "      <td>2.0</td>\n",
       "    </tr>\n",
       "    <tr>\n",
       "      <th>32</th>\n",
       "      <td>101.0</td>\n",
       "      <td>Potrero Ave at 15th St (Temporary Location)</td>\n",
       "      <td>101.0</td>\n",
       "      <td>Potrero Ave at 15th St (Temporary Location)</td>\n",
       "      <td>2502.0</td>\n",
       "      <td>2.0</td>\n",
       "    </tr>\n",
       "    <tr>\n",
       "      <th>33</th>\n",
       "      <td>101.0</td>\n",
       "      <td>San Bruno Ave at 16th St</td>\n",
       "      <td>101.0</td>\n",
       "      <td>San Bruno Ave at 16th St</td>\n",
       "      <td>2400.0</td>\n",
       "      <td>3.0</td>\n",
       "    </tr>\n",
       "    <tr>\n",
       "      <th>34</th>\n",
       "      <td>101.0</td>\n",
       "      <td>15th St at Potrero Ave</td>\n",
       "      <td>101.0</td>\n",
       "      <td>15th St at Potrero Ave</td>\n",
       "      <td>2749.0</td>\n",
       "      <td>1.0</td>\n",
       "    </tr>\n",
       "  </tbody>\n",
       "</table>\n",
       "</div>"
      ],
      "text/plain": [
       "   start_station_id                                 start_station_name  \\\n",
       "0             364.0                           China Basin St at 3rd St   \n",
       "1             364.0                          Mission Rock St at 3rd St   \n",
       "2             358.0                             Williams Ave at 3rd St   \n",
       "3             358.0                            Lane St at Van Dyke Ave   \n",
       "4             321.0                                      5th at Folsom   \n",
       "5             321.0                                   5th St at Folsom   \n",
       "6             281.0                          9th St at San Fernando St   \n",
       "7             281.0                             9th St at San Fernando   \n",
       "8             280.0                          San Fernando St at 7th St   \n",
       "9             280.0     6th St at San Fernando St (Temporary Location)   \n",
       "10            280.0                             San Fernando at 7th St   \n",
       "11            272.0                       Woolsey St at Sacramento St1   \n",
       "12            272.0                        Woolsey St at Sacramento St   \n",
       "13            234.0                Fruitvale Ave at International Blvd   \n",
       "14            234.0                         Farnam St at Fruitvale Ave   \n",
       "15            233.0                                 12th St at 4th Ave   \n",
       "16            233.0                               E 12th St at 4th Ave   \n",
       "17            233.0          4th Ave at E 12th St (Temporary Location)   \n",
       "18            221.0                               E 12th St at 6th Ave   \n",
       "19            221.0                                 12th St at 6th Ave   \n",
       "20            221.0          6th Ave at E 12th St (Temporary Location)   \n",
       "21            212.0                                      Mosswood Park   \n",
       "22            212.0  Webster St at MacArthur Blvd (Temporary Location)   \n",
       "23            208.0                         S. 4th St at San Carlos St   \n",
       "24            208.0          William St at 4th St (Temporary Location)   \n",
       "25            205.0                           Shafter Ave at Cavour St   \n",
       "26            205.0                             Miles Ave at Cavour St   \n",
       "27            205.0        Miles Ave at Cavour St (Temporary Location)   \n",
       "28            192.0                                 37th St at West St   \n",
       "29            192.0         MLK Jr Way at 36th St (Temporary Location)   \n",
       "30            173.0                            Shattuck Ave at 55th St   \n",
       "31            173.0                           Shattuck Ave at 55th Ave   \n",
       "32            101.0        Potrero Ave at 15th St (Temporary Location)   \n",
       "33            101.0                           San Bruno Ave at 16th St   \n",
       "34            101.0                             15th St at Potrero Ave   \n",
       "\n",
       "   end_station_id                                   end_station_name  \\\n",
       "0           364.0                           China Basin St at 3rd St   \n",
       "1           364.0                          Mission Rock St at 3rd St   \n",
       "2           358.0                             Williams Ave at 3rd St   \n",
       "3           358.0                            Lane St at Van Dyke Ave   \n",
       "4           321.0                                      5th at Folsom   \n",
       "5           321.0                                   5th St at Folsom   \n",
       "6           281.0                          9th St at San Fernando St   \n",
       "7           281.0                             9th St at San Fernando   \n",
       "8           280.0                          San Fernando St at 7th St   \n",
       "9           280.0     6th St at San Fernando St (Temporary Location)   \n",
       "10          280.0                             San Fernando at 7th St   \n",
       "11          272.0                       Woolsey St at Sacramento St1   \n",
       "12          272.0                        Woolsey St at Sacramento St   \n",
       "13          234.0                Fruitvale Ave at International Blvd   \n",
       "14          234.0                         Farnam St at Fruitvale Ave   \n",
       "15          233.0                                 12th St at 4th Ave   \n",
       "16          233.0                               E 12th St at 4th Ave   \n",
       "17          233.0          4th Ave at E 12th St (Temporary Location)   \n",
       "18          221.0                               E 12th St at 6th Ave   \n",
       "19          221.0                                 12th St at 6th Ave   \n",
       "20          221.0          6th Ave at E 12th St (Temporary Location)   \n",
       "21          212.0                                      Mosswood Park   \n",
       "22          212.0  Webster St at MacArthur Blvd (Temporary Location)   \n",
       "23          208.0                         S. 4th St at San Carlos St   \n",
       "24          208.0          William St at 4th St (Temporary Location)   \n",
       "25          205.0                           Shafter Ave at Cavour St   \n",
       "26          205.0                             Miles Ave at Cavour St   \n",
       "27          205.0        Miles Ave at Cavour St (Temporary Location)   \n",
       "28          192.0                                 37th St at West St   \n",
       "29          192.0         MLK Jr Way at 36th St (Temporary Location)   \n",
       "30          173.0                            Shattuck Ave at 55th St   \n",
       "31          173.0                           Shattuck Ave at 55th Ave   \n",
       "32          101.0        Potrero Ave at 15th St (Temporary Location)   \n",
       "33          101.0                           San Bruno Ave at 16th St   \n",
       "34          101.0                             15th St at Potrero Ave   \n",
       "\n",
       "    duration_sec  rank  \n",
       "0         3726.0   1.0  \n",
       "1         2499.0   2.0  \n",
       "2          226.0   1.0  \n",
       "3           35.0   2.0  \n",
       "4         5515.0   2.0  \n",
       "5        10821.0   1.0  \n",
       "6         1173.0   1.0  \n",
       "7         1113.0   2.0  \n",
       "8         2558.0   2.0  \n",
       "9         2243.0   3.0  \n",
       "10        2601.0   1.0  \n",
       "11         258.0   2.0  \n",
       "12        2125.0   1.0  \n",
       "13         150.0   1.0  \n",
       "14          77.0   2.0  \n",
       "15        1499.0   1.0  \n",
       "16         211.0   3.0  \n",
       "17        1464.0   2.0  \n",
       "18         121.0   3.0  \n",
       "19         415.0   2.0  \n",
       "20         762.0   1.0  \n",
       "21        3902.0   1.0  \n",
       "22         485.0   2.0  \n",
       "23        1226.0   1.0  \n",
       "24          26.0   2.0  \n",
       "25         882.0   2.0  \n",
       "26        1571.0   1.0  \n",
       "27         350.0   3.0  \n",
       "28        1229.0   1.0  \n",
       "29         178.0   2.0  \n",
       "30        2040.0   1.0  \n",
       "31         799.0   2.0  \n",
       "32        2502.0   2.0  \n",
       "33        2400.0   3.0  \n",
       "34        2749.0   1.0  "
      ]
     },
     "metadata": {},
     "output_type": "display_data"
    },
    {
     "name": "stdout",
     "output_type": "stream",
     "text": [
      "The refrence table of the typo stations\n"
     ]
    },
    {
     "data": {
      "text/plain": [
       "{364.0: 'China Basin St at 3rd St',\n",
       " 358.0: 'Williams Ave at 3rd St',\n",
       " 321.0: '5th St at Folsom',\n",
       " 281.0: '9th St at San Fernando St',\n",
       " 280.0: 'San Fernando at 7th St',\n",
       " 272.0: 'Woolsey St at Sacramento St',\n",
       " 234.0: 'Fruitvale Ave at International Blvd',\n",
       " 233.0: '12th St at 4th Ave',\n",
       " 221.0: '6th Ave at E 12th St (Temporary Location)',\n",
       " 212.0: 'Mosswood Park',\n",
       " 208.0: 'S. 4th St at San Carlos St',\n",
       " 205.0: 'Miles Ave at Cavour St',\n",
       " 192.0: '37th St at West St',\n",
       " 173.0: 'Shattuck Ave at 55th St',\n",
       " 101.0: '15th St at Potrero Ave'}"
      ]
     },
     "metadata": {},
     "output_type": "display_data"
    },
    {
     "name": "stdout",
     "output_type": "stream",
     "text": [
      "All start and end ids/names are cleaned now\n"
     ]
    }
   ],
   "source": [
    "#[1]\n",
    "if ((baywheels['start_station_id'].unique().isin(baywheels['end_station_id'].unique()).all()) == True &\n",
    "    (baywheels['start_station_name'].unique().isin(baywheels['end_station_name'].unique()).all())) == True:\n",
    "    print(\"Station ID & Station Name are the same for start/stop station\")\n",
    "else:\n",
    "    print(\"Station ID & Station Name are NOT the same for start/stop station, recheck it again\")\n",
    "    \n",
    "    \n",
    "#[2]\n",
    "start = baywheels[['start_station_id', 'start_station_name']].drop_duplicates(subset=['start_station_id', 'start_station_name'])\n",
    "start = start[\n",
    "    start['start_station_id'].isin(\n",
    "        start.groupby('start_station_id').count()[start.groupby('start_station_id').count()['start_station_name'] > 1].index)\n",
    "].sort_values(by = ['start_station_id'], ascending=False)\n",
    "\n",
    "\n",
    "end = baywheels[['end_station_id', 'end_station_name']].drop_duplicates(subset=['end_station_id', 'end_station_name'])\n",
    "end = end[\n",
    "    end['end_station_id'].isin(\n",
    "        end.groupby('end_station_id').count()[end.groupby('end_station_id').count()['end_station_name'] > 1].index)\n",
    "].sort_values(by = ['end_station_id'], ascending=False)\n",
    "\n",
    "\n",
    "startname = baywheels[['start_station_id', 'start_station_name']].drop_duplicates(subset=['start_station_id', 'start_station_name'])\n",
    "startname[\n",
    "    startname['start_station_name'].isin(\n",
    "        startname.groupby('start_station_name').count()[startname.groupby('start_station_name').count()['start_station_id'] > 1].index)\n",
    "].sort_values(by = ['start_station_name'], ascending=False)\n",
    "\n",
    "endname = baywheels[['end_station_id', 'end_station_name']].drop_duplicates(subset=['end_station_id', 'end_station_name'])\n",
    "endname[\n",
    "    endname['end_station_name'].isin(\n",
    "        endname.groupby('end_station_name').count()[endname.groupby('end_station_name').count()['end_station_id'] > 1].index)\n",
    "].sort_values(by = ['end_station_name'], ascending=False)\n",
    "\n",
    "baywheels.drop(baywheels[baywheels['start_station_id'] == 385.0]['start_station_name'].index, inplace=True)\n",
    "baywheels.drop(baywheels[baywheels['end_station_id'] == 385.0]['end_station_name'].index, inplace=True)\n",
    "\n",
    "\n",
    "#[3]\n",
    "# Merging the start-end tables for the station to choose the re-naming locations:\n",
    "main = pd.merge(\n",
    "    left = pd.merge(left = start, right = end, how='left', \n",
    "    left_on=['start_station_id', 'start_station_name'], \n",
    "    right_on=['end_station_id', 'end_station_name']),\n",
    "         \n",
    "    right = pd.pivot_table(\n",
    "        baywheels[['start_station_id', 'start_station_name', 'duration_sec']], \n",
    "        index=['start_station_id', 'start_station_name'], \n",
    "        values=['duration_sec'],\n",
    "        aggfunc= 'count').sort_values(by = ['start_station_id', 'duration_sec'], ascending=True),\n",
    "    \n",
    "    on= ['start_station_id', 'start_station_name'], how = 'left')\n",
    "\n",
    "main['rank'] = main.groupby('start_station_id')['duration_sec'].rank(method='min', ascending=False)\n",
    "display(main)\n",
    "\n",
    "# Creating reference for the id-station_name for the typo ones:\n",
    "ref = main[main['rank'] == 1][['start_station_id', 'start_station_name']].set_index('start_station_id')\n",
    "ref = dict(zip(ref.index, ref.start_station_name))\n",
    "display(Markdown(\"**The refrence table of the typo stations:**\"))\n",
    "display(ref)\n",
    "\n",
    "#[4]\n",
    "for i, k in ref.items():\n",
    "    baywheels.loc[baywheels['start_station_id'] == i, 'start_station_name'] = k\n",
    "    baywheels.loc[baywheels['end_station_id'] == i, 'end_station_name'] = k\n",
    "\n",
    "if baywheels['start_station_id'].nunique() == baywheels['start_station_name'].nunique():\n",
    "    print(\"All start and end ids/names are cleaned now\")\n",
    "else:\n",
    "    print(\"Not All ids/names are cleaned, please recheck\")"
   ]
  },
  {
   "cell_type": "markdown",
   "metadata": {},
   "source": [
    "- After seeing typo in some station names, Will get the id and station names which have the typo issue and start to map the stations with typo with the most name used to this station,\n",
    "- this happened in both start and end stations it might be a data entry issue."
   ]
  },
  {
   "cell_type": "markdown",
   "metadata": {},
   "source": [
    "\n",
    "\n",
    "### Discuss the distribution(s) of your variable(s) of interest. Were there any unusual points? Did you need to perform any transformations?\n",
    "\n",
    "> Duration_sec: This variable has unlogical observations as the distribution show a high right-skewed trend due to some trips pretend to be a very long trip, as well as the distribution of year-month, given the % share of the trip.          \n",
    "Transformations: will select the trips with a max 5 hours.\n",
    "\n",
    "> (start_station_latitude, start_station_longitude, end_station_latitude, end_station_longitude) these columns has a value outside the range of long/lat cooridantes with 0 values.                                                       \n",
    "Transformations: it's very low so deleting it will not harm a big data-probation.\n",
    "\n",
    "> (start_station_id, start_station_id, end_station_id, end_station_id) must ot be euqal as the station_id will be referenced to a station_name, some of the ids has a typo station_names.                                                      \n",
    "Transformations: will replace the values with the high contribution station_names.                                          \n",
    "For station_id there is only 2 ids with the same station_name, given that no a good way to verify which id is the right,       \n",
    "Transformations: data will of the low contribution will be deleted to avoid duplication of variables.\n",
    "\n",
    "> (bike_id, user_type, and bike_share_for_all_trip) has no issues of unusual points or outliers.\n",
    "\n",
    "### Of the features you investigated, were there any unusual distributions? Did you perform any operations on the data to tidy, adjust, or change the form of the data? If so, why did you do this?\n",
    "\n",
    "> Duration_sec: Because it's very rare to have a day-long trip, so if the duration of the trip has high values will affect the measures performed on duration such as the average duration. \n",
    "\n",
    "> (start_station_latitude, start_station_longitude, end_station_latitude, end_station_longitude): The out-boundaries data impact the action decision of insight. \n",
    "\n",
    "> (start_station_id, start_station_id, end_station_id, end_station_id):  typo-data need to be replaced as if the variable is a categorical will be wrong to set the performance or metrics of the categorical.\n"
   ]
  },
  {
   "cell_type": "markdown",
   "metadata": {},
   "source": [
    "## Bivariate Exploration\n"
   ]
  },
  {
   "cell_type": "markdown",
   "metadata": {},
   "source": [
    "> 1- First will look into the trend of trips and hours across the month-year dataset, to see a difference in any month or year.\n",
    "\n",
    "> 2- Then will look into the relation between trips and hours per user_type to understand the dependencies of user_type."
   ]
  },
  {
   "cell_type": "code",
   "execution_count": 53,
   "metadata": {},
   "outputs": [
    {
     "data": {
      "image/png": "[encoded data removed]",
      "text/plain": [
       "<Figure size 720x576 with 2 Axes>"
      ]
     },
     "metadata": {
      "needs_background": "light"
     },
     "output_type": "display_data"
    }
   ],
   "source": [
    "da = pd.pivot_table(\n",
    "    baywheels[['year_month', 'duration_sec', 'bike_id']], \n",
    "    index=['year_month'], \n",
    "    values=['duration_sec', 'bike_id'],\n",
    "    aggfunc= {'duration_sec': np.sum, 'bike_id': len}).reset_index()\n",
    "\n",
    "fig, ax = plt.subplots(2, 1, figsize=(10, 8))\n",
    "\n",
    "sns.barplot(data = da, x='bike_id', y = 'year_month', color=sns.color_palette()[0], ax=ax[0], orient=\"h\")\n",
    "ax[0].set_title(\"The number of trips per year-month\", fontsize=15)\n",
    "ax[0].set_ylabel(\"The number of trips\", fontsize=10)\n",
    "#ax[0].set_xticklabels(da['year_month'], rotation=90)\n",
    "\n",
    "sns.barplot(data = da, x='duration_sec', y = 'year_month', color=sns.color_palette()[1], ax=ax[1], orient=\"h\")\n",
    "ax[1].set_title(\"The hours generated per year-month\", fontsize=15)\n",
    "ax[1].set_ylabel(\"The Hours generated\", fontsize=10)\n",
    "#ax[1].set_xticklabels(da['year_month'], rotation=90)\n",
    "\n",
    "plt.subplots_adjust(hspace=.3);"
   ]
  },
  {
   "cell_type": "markdown",
   "metadata": {},
   "source": [
    "- Starting to look at trends in seasonality by looking at the trips and hours trends across the year-month, do the trips or hours increased or decreased in some months or are the trips and hours overlap in some months or year.\n",
    "\n",
    "- Showing that the trips and hours have the same trend across year/months.\n",
    "- Trips and hours are increasing in the summer and go down in winter, which is close to the normal as riding the bikes it might seem hard during winter weather against the summer.\n",
    "- Also, there is a huge increase in the next year months vs the last one, given us a growth perspective and predict that after 2019-05 will witness an increase in trips and hours."
   ]
  },
  {
   "cell_type": "code",
   "execution_count": 36,
   "metadata": {},
   "outputs": [
    {
     "name": "stdout",
     "output_type": "stream",
     "text": [
      "The relationship between trips and hours per user_type:\n"
     ]
    },
    {
     "data": {
      "image/png": "[encoded data removed]",
      "text/plain": [
       "<Figure size 432x216 with 2 Axes>"
      ]
     },
     "metadata": {
      "needs_background": "light"
     },
     "output_type": "display_data"
    }
   ],
   "source": [
    "print(\"The relationship between trips and hours per user_type:\")\n",
    "g = sns.FacetGrid(data = pd.pivot_table(\n",
    "        baywheels[['bike_id', 'duration_sec', 'user_type', 'start_station_id']], \n",
    "        index=['bike_id', 'user_type'], \n",
    "        values=['duration_sec', 'bike_id'],\n",
    "        aggfunc= {'duration_sec': np.sum, 'start_station_id': len}).reset_index('user_type'), \n",
    "                  col='user_type', col_wrap=2,margin_titles=True )\n",
    "(g.map(sns.regplot, 'start_station_id', 'duration_sec'))\\\n",
    ".set_xlabels(\"The number of trips\")\\\n",
    ".set_ylabels(\"The seconds spend during trips\");"
   ]
  },
  {
   "cell_type": "markdown",
   "metadata": {},
   "source": [
    "- Given that trips and hours are depending on each other but while looking at them splitting by user type to see is the subscriber or the customer shows a different view.\n",
    "\n",
    "- Showing that the subscriber tends to do more trips and hours more than the customer.\n",
    "- The customer has a limit of trips below the 300 against the subscriber which is more than 1000.\n",
    "- Both have a positive relation to each other but the subscriber tends to be more linear more than the customer.\n",
    "- Given the subscriber the huge contribution of trips and hours allows us to sustain more supply to these subscribers as any damage or unfulfillment of their rides will result of losing trips and hours as well."
   ]
  },
  {
   "cell_type": "markdown",
   "metadata": {},
   "source": [
    "### Talk about some of the relationships you observed in this part of the investigation. How did the feature(s) of interest vary with other features in the dataset?\n",
    "\n",
    "> There is a great trending between trips and hours across the month of each year indicating that hours are increasing with trips which is close to the normality as hours is a dependant pattern of the trip itself.\n",
    "\n",
    "### Did you observe any interesting relationships between the other features (not the main feature(s) of interest)?\n",
    "\n",
    "> The relationship between trips and hours has a great relation in subscriber more than the customer, which indicates that as much the biker do trips, more hours will be generated whatever was the trip duration or number of trips, against for the customer user_type which increase aggressively at the beginning which indicates that customer has a high trip-duration more than the subscriber."
   ]
  },
  {
   "cell_type": "markdown",
   "metadata": {},
   "source": [
    "## Multivariate Exploration\n"
   ]
  },
  {
   "cell_type": "markdown",
   "metadata": {},
   "source": [
    "> 1- First will look calculation metric for 2 variables per user_type to understand the trends of seasonality across the user_types:\n",
    "\n",
    "> 2- will look into the toppers stations in start and end to search for the common toppers stations with high demand."
   ]
  },
  {
   "cell_type": "code",
   "execution_count": 37,
   "metadata": {},
   "outputs": [
    {
     "name": "stderr",
     "output_type": "stream",
     "text": [
      "C:\\Users\\DOUHA\\AppData\\Local\\Continuum\\anaconda3\\lib\\site-packages\\seaborn\\axisgrid.py:230: UserWarning: The `size` paramter has been renamed to `height`; please update your code.\n",
      "  warnings.warn(msg, UserWarning)\n",
      "C:\\Users\\DOUHA\\AppData\\Local\\Continuum\\anaconda3\\lib\\site-packages\\seaborn\\axisgrid.py:715: UserWarning: Using the barplot function without specifying `order` is likely to produce an incorrect plot.\n",
      "  warnings.warn(warning)\n"
     ]
    },
    {
     "data": {
      "image/png": "[encoded data removed]",
      "text/plain": [
       "<Figure size 720x360 with 2 Axes>"
      ]
     },
     "metadata": {
      "needs_background": "light"
     },
     "output_type": "display_data"
    }
   ],
   "source": [
    "da2 = pd.pivot_table(\n",
    "    baywheels[['year_month', 'duration_sec', 'bike_id', 'user_type']], \n",
    "    index=['year_month', 'user_type'], \n",
    "    values=['duration_sec', 'bike_id'],\n",
    "    aggfunc= {'duration_sec': np.sum, 'bike_id': len}).reset_index()\n",
    "\n",
    "da2['trip_per_hour'] = da2['bike_id'] / (da2['duration_sec']/3600)\n",
    "\n",
    "\n",
    "g = sns.FacetGrid(da2, col='user_type', margin_titles=True, size=5)\n",
    "(g.map(sns.barplot, 'year_month', 'trip_per_hour')).set_xticklabels(rotation=90);"
   ]
  },
  {
   "cell_type": "markdown",
   "metadata": {},
   "source": [
    "- Given that trips and hours are depending and have a good relation, will start to look more about the trend vs trips per hour.\n",
    "- trip per hour gives us is this rider a trip generator or not, as much the trip per hour increases this means the ride do more than trips in one hour which generate more trips in one hour against the opposite.\n",
    "\n",
    "- The subscriber here shows a high trip per hour reach to more than 5 which almost more than double customer is doing.\n",
    "- There is no big drop in any year or months, but the trip per hour for the customer seems that it increases moving forward coming from 2 trips per hour reaching 3 trips per hour which are a huge growing against the smooth or wave trend of subscribers.\n",
    "\n",
    "- This growth might show great growth again next year to allow the customer to reach more trips per hour and become and a trip generator the same as subscribers. "
   ]
  },
  {
   "cell_type": "code",
   "execution_count": 57,
   "metadata": {},
   "outputs": [
    {
     "data": {
      "image/png": "[encoded data removed]",
      "text/plain": [
       "<Figure size 1008x720 with 2 Axes>"
      ]
     },
     "metadata": {
      "needs_background": "light"
     },
     "output_type": "display_data"
    }
   ],
   "source": [
    "da3 = pd.pivot_table(\n",
    "    baywheels[['start_station_name', 'duration_sec', 'bike_id']], \n",
    "    index=['start_station_name'], \n",
    "    values=['duration_sec', 'bike_id'],\n",
    "    aggfunc= {'duration_sec': np.sum, 'bike_id': len}).sort_values('bike_id', ascending=False).head(10).reset_index()\n",
    "\n",
    "da4 = pd.pivot_table(\n",
    "    baywheels[['end_station_name', 'duration_sec', 'bike_id']], \n",
    "    index=['end_station_name'], \n",
    "    values=['duration_sec', 'bike_id'],\n",
    "    aggfunc= {'duration_sec': np.sum, 'bike_id': len}).sort_values('bike_id', ascending=False).head(10).reset_index()\n",
    "\n",
    "labels = [item.get_text().replace('(','\\n(') for item in ax[0].get_yticklabels()]\n",
    "\n",
    "fig, ax = plt.subplots(1, 2, figsize=(14, 10))\n",
    "\n",
    "sns.barplot(data = da3, x='bike_id', y = da3['start_station_name'].astype('object'), color=sns.color_palette()[0], ax=ax[0])\n",
    "ax[0].set_title(\"The trips from start-station\", fontsize=15)\n",
    "ax[0].set_xlabel(\"The number of trips\", fontsize=10)\n",
    "labels = [item.get_text().replace('(','\\n(') for item in ax[0].get_yticklabels()]\n",
    "ax[0].set_yticklabels(labels)\n",
    "\n",
    "sns.barplot(data = da4, x='bike_id', y = da4['end_station_name'].astype('object'), color=sns.color_palette()[1], ax=ax[1])\n",
    "ax[1].set_title(\"The trips from end-station\", fontsize=15)\n",
    "ax[1].set_xlabel(\"The number of trips\", fontsize=10)\n",
    "labels = [item.get_text().replace('(','\\n(') for item in ax[1].get_yticklabels()]\n",
    "ax[1].set_yticklabels(labels)\n",
    "\n",
    "plt.tight_layout();"
   ]
  },
  {
   "cell_type": "markdown",
   "metadata": {},
   "source": [
    "- After cleaning the station's names typo issue, looking at the top start and end stations are both overlapping with each other or not.\n",
    "\n",
    "- It seems that most of the start stations are the end ones which generate a huge demand on these stations and require a huge supply to sustain and maintain these trips requests.\n",
    "\n",
    "- The top stations are the hubs that can be called the generators, they generate the majority of trips so a focus will be needed to these stations."
   ]
  },
  {
   "cell_type": "markdown",
   "metadata": {},
   "source": [
    "### Talk about some of the relationships you observed in this part of the investigation. Were there features that strengthened each other in terms of looking at your feature(s) of interest?\n",
    "\n",
    "> The conversion between trips and hours give us a metric to determine whether how many trips the biker can do in one hour,\n",
    "As shown the subscriber is more appealing more than customer user_type.\n",
    "\n",
    "> Looking to the top 10 starts & end station which give us is this station is a hub zone for riders, in order to focus on.\n",
    "\n",
    "### Were there any interesting or surprising interactions between features?\n",
    "\n",
    "> Most of the top 10 start station are the same end ones which give us that the toppers stations are the hubs one which needs more focus."
   ]
  },
  {
   "cell_type": "code",
   "execution_count": 50,
   "metadata": {},
   "outputs": [],
   "source": [
    "# This might take time to extract the main file to be used in slide_deck file:\n",
    "baywheels.to_csv('baywheels.csv', index=False)"
   ]
  }
 ],
 "metadata": {
  "kernelspec": {
   "display_name": "Python 3",
   "language": "python",
   "name": "python3"
  },
  "language_info": {
   "codemirror_mode": {
    "name": "ipython",
    "version": 3
   },
   "file_extension": ".py",
   "mimetype": "text/x-python",
   "name": "python",
   "nbconvert_exporter": "python",
   "pygments_lexer": "ipython3",
   "version": "3.7.3"
  }
 },
 "nbformat": 4,
 "nbformat_minor": 2
}
